{
 "cells": [
  {
   "cell_type": "code",
   "execution_count": 22,
   "metadata": {},
   "outputs": [
    {
     "name": "stdout",
     "output_type": "stream",
     "text": [
      "1\n",
      "3\n",
      "2\n"
     ]
    }
   ],
   "source": [
    "class node:\n",
    "    \n",
    "    def __init__(self,data):\n",
    "        self.data=data\n",
    "        self.right=None\n",
    "        self.left=None\n",
    "        \n",
    "class tree:\n",
    "   \n",
    "    def tr(self):\n",
    "        self.root=None\n",
    "    \n",
    "    def printt(self):\n",
    "        q.append(self.root)\n",
    "        \n",
    "        while(len(q)):\n",
    "            \n",
    "            s=len(q)\n",
    "            o=len(q)\n",
    "            while(s):\n",
    "                a=q.popleft()\n",
    "                if(s==o):\n",
    "                    print(a.data) \n",
    "                \n",
    "                \n",
    "                if(a.left!=None):\n",
    "                    q.append(a.left)\n",
    "                if(a.right!=None):\n",
    "                    q.append(a.right)\n",
    "                s=s-1\n",
    "            \n",
    "        \n",
    "        \n",
    "if __name__==\"__main__\":\n",
    "    no1=node(1)\n",
    "    no2=node(2)\n",
    "    no3=node(3)\n",
    "    no4=node(4)\n",
    "    \n",
    "    tr=tree()\n",
    "    tr.root=no1\n",
    "    no1.left=no3\n",
    "    no1.right=no4\n",
    "    no3.left=no2\n",
    "    tr.printt()"
   ]
  },
  {
   "cell_type": "code",
   "execution_count": 4,
   "metadata": {},
   "outputs": [
    {
     "name": "stdout",
     "output_type": "stream",
     "text": [
      "4\n"
     ]
    }
   ],
   "source": [
    "print(no1.right.left.data)"
   ]
  },
  {
   "cell_type": "code",
   "execution_count": 5,
   "metadata": {},
   "outputs": [],
   "source": [
    "from collections import deque"
   ]
  },
  {
   "cell_type": "code",
   "execution_count": 6,
   "metadata": {},
   "outputs": [],
   "source": [
    "q=deque()"
   ]
  },
  {
   "cell_type": "code",
   "execution_count": null,
   "metadata": {},
   "outputs": [],
   "source": []
  }
 ],
 "metadata": {
  "kernelspec": {
   "display_name": "Python 3",
   "language": "python",
   "name": "python3"
  },
  "language_info": {
   "codemirror_mode": {
    "name": "ipython",
    "version": 3
   },
   "file_extension": ".py",
   "mimetype": "text/x-python",
   "name": "python",
   "nbconvert_exporter": "python",
   "pygments_lexer": "ipython3",
   "version": "3.6.8"
  }
 },
 "nbformat": 4,
 "nbformat_minor": 2
}
